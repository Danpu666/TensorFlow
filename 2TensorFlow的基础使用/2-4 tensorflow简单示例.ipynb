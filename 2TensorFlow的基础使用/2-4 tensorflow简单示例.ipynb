{
 "cells": [
  {
   "cell_type": "code",
   "execution_count": 4,
   "metadata": {
    "collapsed": true
   },
   "outputs": [],
   "source": [
    "import tensorflow as tf\n",
    "import numpy as np"
   ]
  },
  {
   "cell_type": "code",
   "execution_count": 5,
   "metadata": {},
   "outputs": [
    {
     "name": "stdout",
     "output_type": "stream",
     "text": [
      "0 [0.052533645, 0.09989589]\n",
      "20 [0.10262821, 0.19861455]\n",
      "40 [0.101665676, 0.19912201]\n",
      "60 [0.101055644, 0.19944356]\n",
      "80 [0.100669034, 0.19964735]\n",
      "100 [0.100424, 0.1997765]\n",
      "120 [0.10026872, 0.19985835]\n",
      "140 [0.10017031, 0.19991022]\n",
      "160 [0.10010793, 0.1999431]\n",
      "180 [0.1000684, 0.19996394]\n",
      "200 [0.10004335, 0.19997714]\n"
     ]
    }
   ],
   "source": [
    "#使用numpy生成100个随机点\n",
    "x_data=np.random.rand(100)\n",
    "y_data=x_data*0.1+0.2\n",
    "\n",
    "#构造线性模型\n",
    "b=tf.Variable(0.)\n",
    "k=tf.Variable(0.)\n",
    "y=k*x_data+b\n",
    "\n",
    "#定义二次代价函数\n",
    "loss=tf.reduce_mean(tf.square(y_data-y))\n",
    "#定义一个梯度下降法来进行训练的优化器\n",
    "optimizer=tf.train.GradientDescentOptimizer(0.2)\n",
    "#最小化代价函数\n",
    "train=optimizer.minimize(loss)\n",
    "\n",
    "#初始化变量\n",
    "init=tf.global_variables_initializer()\n",
    "\n",
    "with tf.Session() as sess:\n",
    "    sess.run(init)\n",
    "    for step in range(201):\n",
    "        sess.run(train)\n",
    "        if step%20==0:\n",
    "            print(step,sess.run([k,b]))"
   ]
  }
 ],
 "metadata": {
  "kernelspec": {
   "display_name": "Python 3",
   "language": "python",
   "name": "python3"
  },
  "language_info": {
   "codemirror_mode": {
    "name": "ipython",
    "version": 3
   },
   "file_extension": ".py",
   "mimetype": "text/x-python",
   "name": "python",
   "nbconvert_exporter": "python",
   "pygments_lexer": "ipython3",
   "version": "3.6.5"
  }
 },
 "nbformat": 4,
 "nbformat_minor": 2
}
