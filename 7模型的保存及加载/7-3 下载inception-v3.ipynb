{
 "cells": [
  {
   "cell_type": "code",
   "execution_count": 4,
   "metadata": {
    "collapsed": true
   },
   "outputs": [],
   "source": [
    "import tensorflow as tf\n",
    "import os\n",
    "import tarfile\n",
    "import requests"
   ]
  },
  {
   "cell_type": "code",
   "execution_count": 6,
   "metadata": {},
   "outputs": [
    {
     "name": "stdout",
     "output_type": "stream",
     "text": [
      "download: inception-2015-12-05.tgz\n",
      "finish inception-2015-12-05.tgz\n"
     ]
    }
   ],
   "source": [
    "#下载地址\n",
    "inception_pretrain_model_url=\"http://download.tensorflow.org/models/image/imagenet/inception-2015-12-05.tgz\"\n",
    "\n",
    "#模型存放的地址\n",
    "inception_pretrain_model_dir='inception_model'\n",
    "if not os.path.exists(inception_pretrain_model_dir):\n",
    "    os.makedirs(inception_pretrain_model_dir)\n",
    "\n",
    "#获取文件名，已经文件路径\n",
    "filename=inception_pretrain_model_url.split('/')[-1]\n",
    "filepath=os.path.join(inception_pretrain_model_dir,filename)\n",
    "\n",
    "#下载模型，如果不存在就下载压缩包并且解压\n",
    "if not os.path.exists(filepath):\n",
    "    print(\"download:\",filename)\n",
    "    r=requests.get(inception_pretrain_model_url,stream=True)\n",
    "    with open(filepath,\"wb\") as f:\n",
    "        for chunk in r.iter_content(chunk_size=1024):\n",
    "            if chunk:\n",
    "                f.write(chunk)\n",
    "print(\"finish\",filename)\n",
    "#解压文件\n",
    "tarfile.open(filepath,\"r:gz\").extractall(inception_pretrain_model_dir)\n",
    "\n",
    "#模型结构存放文件\n",
    "log_dir=\"inception_log\"\n",
    "if not os.path.exists(log_dir):\n",
    "    os.makedirs(log_dir)\n",
    "\n",
    "#加载训练好的模型classify_image_graph_def.pb\n",
    "inception_graph_def_file=os.path.join(inception_pretrain_model_dir,\n",
    "                                      'classify_image_graph_def.pb')\n",
    "with tf.Session() as sess:\n",
    "    #创建一个图来存放Google训练好的模型\n",
    "    with tf.gfile.FastGFile(inception_graph_def_file,'rb') as f:\n",
    "        graph_def=tf.GraphDef()\n",
    "        graph_def.ParseFromString(f.read())\n",
    "        tf.import_graph_def(graph_def,name=\"\")\n",
    "        \n",
    "    #保存图的结构,可以通过tensorboard进行查看\n",
    "    writer=tf.summary.FileWriter(log_dir,sess.graph)\n",
    "    writer.close()\n"
   ]
  }
 ],
 "metadata": {
  "kernelspec": {
   "display_name": "Python 3",
   "language": "python",
   "name": "python3"
  },
  "language_info": {
   "codemirror_mode": {
    "name": "ipython",
    "version": 3
   },
   "file_extension": ".py",
   "mimetype": "text/x-python",
   "name": "python",
   "nbconvert_exporter": "python",
   "pygments_lexer": "ipython3",
   "version": "3.6.5"
  }
 },
 "nbformat": 4,
 "nbformat_minor": 2
}
