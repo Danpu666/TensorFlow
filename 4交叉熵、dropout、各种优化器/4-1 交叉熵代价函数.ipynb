{
 "cells": [
  {
   "cell_type": "code",
   "execution_count": 12,
   "metadata": {},
   "outputs": [],
   "source": [
    "import tensorflow as tf\n",
    "from tensorflow.examples.tutorials.mnist import input_data"
   ]
  },
  {
   "cell_type": "code",
   "execution_count": 13,
   "metadata": {},
   "outputs": [
    {
     "name": "stdout",
     "output_type": "stream",
     "text": [
      "Extracting MNIST_data\\train-images-idx3-ubyte.gz\n",
      "Extracting MNIST_data\\train-labels-idx1-ubyte.gz\n",
      "Extracting MNIST_data\\t10k-images-idx3-ubyte.gz\n",
      "Extracting MNIST_data\\t10k-labels-idx1-ubyte.gz\n",
      "iter 0 testing Accuracy 0.825\n",
      "iter 1 testing Accuracy 0.8943\n",
      "iter 2 testing Accuracy 0.9021\n",
      "iter 3 testing Accuracy 0.9053\n",
      "iter 4 testing Accuracy 0.909\n",
      "iter 5 testing Accuracy 0.9106\n",
      "iter 6 testing Accuracy 0.9126\n",
      "iter 7 testing Accuracy 0.9136\n",
      "iter 8 testing Accuracy 0.9153\n",
      "iter 9 testing Accuracy 0.9159\n",
      "iter 10 testing Accuracy 0.9175\n",
      "iter 11 testing Accuracy 0.9181\n",
      "iter 12 testing Accuracy 0.9189\n",
      "iter 13 testing Accuracy 0.9201\n",
      "iter 14 testing Accuracy 0.9203\n",
      "iter 15 testing Accuracy 0.9208\n",
      "iter 16 testing Accuracy 0.9203\n",
      "iter 17 testing Accuracy 0.9209\n",
      "iter 18 testing Accuracy 0.9216\n",
      "iter 19 testing Accuracy 0.9212\n",
      "iter 20 testing Accuracy 0.922\n",
      "iter 21 testing Accuracy 0.9218\n",
      "iter 22 testing Accuracy 0.9227\n",
      "iter 23 testing Accuracy 0.9227\n",
      "iter 24 testing Accuracy 0.9233\n",
      "iter 25 testing Accuracy 0.9228\n",
      "iter 26 testing Accuracy 0.9232\n",
      "iter 27 testing Accuracy 0.9225\n",
      "iter 28 testing Accuracy 0.924\n",
      "iter 29 testing Accuracy 0.9235\n",
      "iter 30 testing Accuracy 0.9237\n"
     ]
    }
   ],
   "source": [
    "#载入数据集\n",
    "mnist=input_data.read_data_sets(\"MNIST_data\",one_hot=True)\n",
    "\n",
    "#每个批次的大小\n",
    "batch_size=100\n",
    "#计算一共有多少个批次\n",
    "a_batch=mnist.train.num_examples//batch_size\n",
    "\n",
    "#定义两个placeholder\n",
    "x=tf.placeholder(tf.float32,[None,784])\n",
    "y=tf.placeholder(tf.float32,[None,10])\n",
    "\n",
    "#创建一个简单的神经网络\n",
    "W=tf.Variable(tf.zeros([784,10]))\n",
    "b=tf.Variable(tf.zeros([10]))\n",
    "prediction=tf.nn.softmax(tf.matmul(x,W)+b)\n",
    "\n",
    "#交叉熵代价函数\n",
    "loss=tf.reduce_mean(tf.nn.softmax_cross_entropy_with_logits\n",
    "                    (labels=y,logits=prediction))\n",
    "#使用梯度下降法\n",
    "train_step=tf.train.GradientDescentOptimizer(0.2).minimize(loss)\n",
    "\n",
    "#初始化变量\n",
    "init=tf.global_variables_initializer()\n",
    "\n",
    "#结果存放在一个布尔型列表中\n",
    "correct_prediction=tf.equal(tf.argmax(y,1),tf.argmax(prediction,1))\n",
    "#求准确率\n",
    "accuracy=tf.reduce_mean(tf.cast(correct_prediction,tf.float32))\n",
    "\n",
    "with tf.Session() as sess:\n",
    "    sess.run(init)\n",
    "    for epoch in range(31):\n",
    "        for batch in range(a_batch):\n",
    "            batch_xs,batch_ys=mnist.train.next_batch(batch_size)\n",
    "            sess.run(train_step,feed_dict={x:batch_xs,y:batch_ys})\n",
    "        acc=sess.run(accuracy,feed_dict={x:mnist.test.images,\n",
    "                                         y:mnist.test.labels})\n",
    "        print('iter',str(epoch),'testing Accuracy',str(acc))\n",
    "          "
   ]
  }
 ],
 "metadata": {
  "kernelspec": {
   "display_name": "Python 3",
   "language": "python",
   "name": "python3"
  },
  "language_info": {
   "codemirror_mode": {
    "name": "ipython",
    "version": 3
   },
   "file_extension": ".py",
   "mimetype": "text/x-python",
   "name": "python",
   "nbconvert_exporter": "python",
   "pygments_lexer": "ipython3",
   "version": "3.6.5"
  }
 },
 "nbformat": 4,
 "nbformat_minor": 2
}
