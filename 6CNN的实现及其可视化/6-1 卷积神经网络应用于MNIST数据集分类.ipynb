{
 "cells": [
  {
   "cell_type": "code",
   "execution_count": 2,
   "metadata": {},
   "outputs": [
    {
     "name": "stdout",
     "output_type": "stream",
     "text": [
      "WARNING:tensorflow:From F:\\Anaconda\\envs\\Tensorflow\\lib\\site-packages\\tensorflow\\contrib\\learn\\python\\learn\\datasets\\base.py:198: retry (from tensorflow.contrib.learn.python.learn.datasets.base) is deprecated and will be removed in a future version.\n",
      "Instructions for updating:\n",
      "Use the retry module or similar alternatives.\n"
     ]
    }
   ],
   "source": [
    "import tensorflow as tf\n",
    "from tensorflow.examples.tutorials.mnist import input_data"
   ]
  },
  {
   "cell_type": "code",
   "execution_count": 4,
   "metadata": {},
   "outputs": [
    {
     "name": "stdout",
     "output_type": "stream",
     "text": [
      "Extracting MNIST_data\\train-images-idx3-ubyte.gz\n",
      "Extracting MNIST_data\\train-labels-idx1-ubyte.gz\n",
      "Extracting MNIST_data\\t10k-images-idx3-ubyte.gz\n",
      "Extracting MNIST_data\\t10k-labels-idx1-ubyte.gz\n",
      "iter 0 testing Accuracy 0.8567\n",
      "iter 1 testing Accuracy 0.9003\n",
      "iter 2 testing Accuracy 0.9143\n",
      "iter 3 testing Accuracy 0.9243\n",
      "iter 4 testing Accuracy 0.9294\n",
      "iter 5 testing Accuracy 0.9364\n",
      "iter 6 testing Accuracy 0.9395\n",
      "iter 7 testing Accuracy 0.9445\n",
      "iter 8 testing Accuracy 0.9472\n",
      "iter 9 testing Accuracy 0.9473\n",
      "iter 10 testing Accuracy 0.9517\n"
     ]
    }
   ],
   "source": [
    "mnist=input_data.read_data_sets(\"MNIST_data\",one_hot=True)\n",
    "\n",
    "#每个批次的大小\n",
    "batch_size=50\n",
    "#计算一共有多少个批次\n",
    "a_batch=mnist.train.num_examples//batch_size\n",
    "\n",
    "#初始化权重\n",
    "def weight_variable(shape):\n",
    "    initial=tf.truncated_normal(shape,stddev=0.1)\n",
    "    return tf.Variable(initial)\n",
    "\n",
    "#初始化偏置\n",
    "def bias_variable(shape):\n",
    "    initial=tf.constant(0,1,shape=shape)\n",
    "    return tf.Variable(initial)\n",
    "\n",
    "#卷积层\n",
    "def conv2d(x,W):\n",
    "    return tf.nn.conv2d(x,W,strides=[1,1,1,1],padding='SAME')\n",
    "\n",
    "#池化层\n",
    "def max_pool_2x2(x):\n",
    "    return tf.nn.max_pool(x,ksize=[1,2,2,1],\n",
    "                          strides=[1,2,2,1],padding=\"SAME\")\n",
    "\n",
    "#定义两个placeholder\n",
    "x=tf.placeholder(tf.float32,[None,784])\n",
    "y=tf.placeholder(tf.float32,[None,10])\n",
    "\n",
    "x_image=tf.reshape(x,[-1,28,28,1])\n",
    "\n",
    "#初始化第一个卷积层的权重和偏置\n",
    "W_conv1=weight_variable([5,5,1,6])\n",
    "#5*5的采样窗口，32个卷积核从一个平面抽取特征\n",
    "b_conv1=bias_variable([6])\n",
    "#池化\n",
    "h_conv1=tf.nn.relu(conv2d(x_image,W_conv1)+b_conv1)\n",
    "h_pool1=max_pool_2x2(h_conv1)\n",
    "\n",
    "W_conv2=weight_variable([5,5,6,6])\n",
    "b_conv2=bias_variable([6])\n",
    "h_conv2=tf.nn.relu(conv2d(h_pool1,W_conv2)+b_conv2)\n",
    "h_pool2=max_pool_2x2(h_conv2)\n",
    "#28*28的图片第一次卷积后是28*28，第一次池化后是14*14\n",
    "#第二次卷积后是14*14，第二次池化后是7*7\n",
    "\n",
    "#定义第一个全连接层的权重\n",
    "W_fe1=weight_variable([7*7*6,50])\n",
    "b_fe1=bias_variable([50])\n",
    "\n",
    "#把池化层2的输出扁平化\n",
    "h_pool2_flat=tf.reshape(h_pool2,[-1,7*7*6])\n",
    "h_fel=tf.nn.relu(tf.matmul(h_pool2_flat,W_fe1)+b_fe1)\n",
    "\n",
    "keep_prob=tf.placeholder(tf.float32)\n",
    "h_fe1_drop=tf.nn.dropout(h_fel,keep_prob)\n",
    "\n",
    "#定义第二个全连接层\n",
    "W_fe2=weight_variable([50,10])\n",
    "b_fe2=bias_variable([10])\n",
    "\n",
    "#计算输出\n",
    "prediction=tf.nn.softmax(tf.matmul(h_fe1_drop,W_fe2)+b_fe2)\n",
    "\n",
    "#交叉熵代价函数\n",
    "cross_entropy=tf.reduce_mean(tf.nn.softmax_cross_entropy_with_logits\n",
    "                             (labels=y,logits=prediction))\n",
    "#优化\n",
    "train_step=tf.train.AdamOptimizer(1e-4).minimize(cross_entropy)\n",
    "#结果存放在一个布尔型列表中\n",
    "correct_prediction=tf.equal(tf.argmax(prediction,1),tf.argmax(y,1))\n",
    "#求准确率\n",
    "accuracy=tf.reduce_mean(tf.cast(correct_prediction,tf.float32))\n",
    "\n",
    "with tf.Session() as sess:\n",
    "    sess.run(tf.global_variables_initializer())\n",
    "    writer=tf.summary.FileWriter(\"logs/\",sess.graph)\n",
    "    for epoch in range(11):\n",
    "        for batch in range(a_batch):\n",
    "            batch_xs,batch_ys=mnist.train.next_batch(batch_size)\n",
    "            sess.run(train_step,feed_dict={x:batch_xs,y:batch_ys,\n",
    "                                           keep_prob:0.7})\n",
    "     \n",
    "        acc=sess.run(accuracy,feed_dict={x:mnist.test.images,\n",
    "                                         y:mnist.test.labels\n",
    "                                         ,keep_prob:1.0})\n",
    "        print('iter',str(epoch),'testing Accuracy',str(acc))\n",
    "          "
   ]
  }
 ],
 "metadata": {
  "kernelspec": {
   "display_name": "Python 3",
   "language": "python",
   "name": "python3"
  },
  "language_info": {
   "codemirror_mode": {
    "name": "ipython",
    "version": 3
   },
   "file_extension": ".py",
   "mimetype": "text/x-python",
   "name": "python",
   "nbconvert_exporter": "python",
   "pygments_lexer": "ipython3",
   "version": "3.6.5"
  }
 },
 "nbformat": 4,
 "nbformat_minor": 2
}
